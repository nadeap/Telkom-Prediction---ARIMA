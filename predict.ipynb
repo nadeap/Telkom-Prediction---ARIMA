{
 "cells": [
  {
   "cell_type": "code",
   "execution_count": 1,
   "metadata": {},
   "outputs": [],
   "source": [
    "import pandas as pd\n",
    "import numpy as np\n",
    "import matplotlib.pyplot as plt\n",
    "import seaborn as sns"
   ]
  },
  {
   "cell_type": "code",
   "execution_count": 4,
   "metadata": {},
   "outputs": [
    {
     "data": {
      "text/html": [
       "<div>\n",
       "<style scoped>\n",
       "    .dataframe tbody tr th:only-of-type {\n",
       "        vertical-align: middle;\n",
       "    }\n",
       "\n",
       "    .dataframe tbody tr th {\n",
       "        vertical-align: top;\n",
       "    }\n",
       "\n",
       "    .dataframe thead th {\n",
       "        text-align: right;\n",
       "    }\n",
       "</style>\n",
       "<table border=\"1\" class=\"dataframe\">\n",
       "  <thead>\n",
       "    <tr style=\"text-align: right;\">\n",
       "      <th></th>\n",
       "      <th>Date</th>\n",
       "      <th>Open</th>\n",
       "      <th>High</th>\n",
       "      <th>Low</th>\n",
       "      <th>Close</th>\n",
       "      <th>Adj Close</th>\n",
       "      <th>Volume</th>\n",
       "    </tr>\n",
       "  </thead>\n",
       "  <tbody>\n",
       "    <tr>\n",
       "      <th>0</th>\n",
       "      <td>2020-12-28</td>\n",
       "      <td>3370.0</td>\n",
       "      <td>3460.0</td>\n",
       "      <td>3280.0</td>\n",
       "      <td>3430.0</td>\n",
       "      <td>3150.129150</td>\n",
       "      <td>178138100</td>\n",
       "    </tr>\n",
       "    <tr>\n",
       "      <th>1</th>\n",
       "      <td>2020-12-29</td>\n",
       "      <td>3500.0</td>\n",
       "      <td>3530.0</td>\n",
       "      <td>3400.0</td>\n",
       "      <td>3420.0</td>\n",
       "      <td>3140.945068</td>\n",
       "      <td>184525500</td>\n",
       "    </tr>\n",
       "    <tr>\n",
       "      <th>2</th>\n",
       "      <td>2020-12-30</td>\n",
       "      <td>3420.0</td>\n",
       "      <td>3420.0</td>\n",
       "      <td>3310.0</td>\n",
       "      <td>3310.0</td>\n",
       "      <td>3039.920410</td>\n",
       "      <td>150844500</td>\n",
       "    </tr>\n",
       "    <tr>\n",
       "      <th>3</th>\n",
       "      <td>2021-01-04</td>\n",
       "      <td>3320.0</td>\n",
       "      <td>3500.0</td>\n",
       "      <td>3310.0</td>\n",
       "      <td>3490.0</td>\n",
       "      <td>3205.233154</td>\n",
       "      <td>165339800</td>\n",
       "    </tr>\n",
       "    <tr>\n",
       "      <th>4</th>\n",
       "      <td>2021-01-05</td>\n",
       "      <td>3480.0</td>\n",
       "      <td>3480.0</td>\n",
       "      <td>3420.0</td>\n",
       "      <td>3470.0</td>\n",
       "      <td>3186.865234</td>\n",
       "      <td>157800700</td>\n",
       "    </tr>\n",
       "  </tbody>\n",
       "</table>\n",
       "</div>"
      ],
      "text/plain": [
       "         Date    Open    High     Low   Close    Adj Close     Volume\n",
       "0  2020-12-28  3370.0  3460.0  3280.0  3430.0  3150.129150  178138100\n",
       "1  2020-12-29  3500.0  3530.0  3400.0  3420.0  3140.945068  184525500\n",
       "2  2020-12-30  3420.0  3420.0  3310.0  3310.0  3039.920410  150844500\n",
       "3  2021-01-04  3320.0  3500.0  3310.0  3490.0  3205.233154  165339800\n",
       "4  2021-01-05  3480.0  3480.0  3420.0  3470.0  3186.865234  157800700"
      ]
     },
     "execution_count": 4,
     "metadata": {},
     "output_type": "execute_result"
    }
   ],
   "source": [
    "data = pd.read_csv('TLKM.JK.csv')\n",
    "data.head()"
   ]
  },
  {
   "cell_type": "code",
   "execution_count": 5,
   "metadata": {},
   "outputs": [
    {
     "data": {
      "text/plain": [
       "(493, 7)"
      ]
     },
     "execution_count": 5,
     "metadata": {},
     "output_type": "execute_result"
    }
   ],
   "source": [
    "data.shape"
   ]
  },
  {
   "cell_type": "code",
   "execution_count": 6,
   "metadata": {},
   "outputs": [
    {
     "data": {
      "text/html": [
       "<div>\n",
       "<style scoped>\n",
       "    .dataframe tbody tr th:only-of-type {\n",
       "        vertical-align: middle;\n",
       "    }\n",
       "\n",
       "    .dataframe tbody tr th {\n",
       "        vertical-align: top;\n",
       "    }\n",
       "\n",
       "    .dataframe thead th {\n",
       "        text-align: right;\n",
       "    }\n",
       "</style>\n",
       "<table border=\"1\" class=\"dataframe\">\n",
       "  <thead>\n",
       "    <tr style=\"text-align: right;\">\n",
       "      <th></th>\n",
       "      <th>count</th>\n",
       "      <th>mean</th>\n",
       "      <th>std</th>\n",
       "      <th>min</th>\n",
       "      <th>25%</th>\n",
       "      <th>50%</th>\n",
       "      <th>75%</th>\n",
       "      <th>max</th>\n",
       "    </tr>\n",
       "  </thead>\n",
       "  <tbody>\n",
       "    <tr>\n",
       "      <th>Open</th>\n",
       "      <td>493.0</td>\n",
       "      <td>3.877667e+03</td>\n",
       "      <td>4.885536e+02</td>\n",
       "      <td>3.030000e+03</td>\n",
       "      <td>3.400000e+03</td>\n",
       "      <td>3.980000e+03</td>\n",
       "      <td>4300.0</td>\n",
       "      <td>4850.0</td>\n",
       "    </tr>\n",
       "    <tr>\n",
       "      <th>High</th>\n",
       "      <td>493.0</td>\n",
       "      <td>3.921156e+03</td>\n",
       "      <td>4.912326e+02</td>\n",
       "      <td>3.060000e+03</td>\n",
       "      <td>3.430000e+03</td>\n",
       "      <td>4.040000e+03</td>\n",
       "      <td>4350.0</td>\n",
       "      <td>4850.0</td>\n",
       "    </tr>\n",
       "    <tr>\n",
       "      <th>Low</th>\n",
       "      <td>493.0</td>\n",
       "      <td>3.832211e+03</td>\n",
       "      <td>4.826171e+02</td>\n",
       "      <td>3.000000e+03</td>\n",
       "      <td>3.360000e+03</td>\n",
       "      <td>3.930000e+03</td>\n",
       "      <td>4250.0</td>\n",
       "      <td>4720.0</td>\n",
       "    </tr>\n",
       "    <tr>\n",
       "      <th>Close</th>\n",
       "      <td>493.0</td>\n",
       "      <td>3.877363e+03</td>\n",
       "      <td>4.882772e+02</td>\n",
       "      <td>3.010000e+03</td>\n",
       "      <td>3.390000e+03</td>\n",
       "      <td>3.990000e+03</td>\n",
       "      <td>4300.0</td>\n",
       "      <td>4770.0</td>\n",
       "    </tr>\n",
       "    <tr>\n",
       "      <th>Adj Close</th>\n",
       "      <td>493.0</td>\n",
       "      <td>3.750470e+03</td>\n",
       "      <td>5.463914e+02</td>\n",
       "      <td>2.856240e+03</td>\n",
       "      <td>3.196049e+03</td>\n",
       "      <td>3.926386e+03</td>\n",
       "      <td>4210.0</td>\n",
       "      <td>4750.0</td>\n",
       "    </tr>\n",
       "    <tr>\n",
       "      <th>Volume</th>\n",
       "      <td>493.0</td>\n",
       "      <td>1.141068e+08</td>\n",
       "      <td>6.699120e+07</td>\n",
       "      <td>1.921670e+07</td>\n",
       "      <td>6.986630e+07</td>\n",
       "      <td>9.732050e+07</td>\n",
       "      <td>142204500.0</td>\n",
       "      <td>585687400.0</td>\n",
       "    </tr>\n",
       "  </tbody>\n",
       "</table>\n",
       "</div>"
      ],
      "text/plain": [
       "           count          mean           std           min           25%  \\\n",
       "Open       493.0  3.877667e+03  4.885536e+02  3.030000e+03  3.400000e+03   \n",
       "High       493.0  3.921156e+03  4.912326e+02  3.060000e+03  3.430000e+03   \n",
       "Low        493.0  3.832211e+03  4.826171e+02  3.000000e+03  3.360000e+03   \n",
       "Close      493.0  3.877363e+03  4.882772e+02  3.010000e+03  3.390000e+03   \n",
       "Adj Close  493.0  3.750470e+03  5.463914e+02  2.856240e+03  3.196049e+03   \n",
       "Volume     493.0  1.141068e+08  6.699120e+07  1.921670e+07  6.986630e+07   \n",
       "\n",
       "                    50%          75%          max  \n",
       "Open       3.980000e+03       4300.0       4850.0  \n",
       "High       4.040000e+03       4350.0       4850.0  \n",
       "Low        3.930000e+03       4250.0       4720.0  \n",
       "Close      3.990000e+03       4300.0       4770.0  \n",
       "Adj Close  3.926386e+03       4210.0       4750.0  \n",
       "Volume     9.732050e+07  142204500.0  585687400.0  "
      ]
     },
     "execution_count": 6,
     "metadata": {},
     "output_type": "execute_result"
    }
   ],
   "source": [
    "data.describe().T"
   ]
  },
  {
   "cell_type": "code",
   "execution_count": 8,
   "metadata": {},
   "outputs": [
    {
     "name": "stdout",
     "output_type": "stream",
     "text": [
      "<class 'pandas.core.frame.DataFrame'>\n",
      "RangeIndex: 493 entries, 0 to 492\n",
      "Data columns (total 7 columns):\n",
      " #   Column     Non-Null Count  Dtype  \n",
      "---  ------     --------------  -----  \n",
      " 0   Date       493 non-null    object \n",
      " 1   Open       493 non-null    float64\n",
      " 2   High       493 non-null    float64\n",
      " 3   Low        493 non-null    float64\n",
      " 4   Close      493 non-null    float64\n",
      " 5   Adj Close  493 non-null    float64\n",
      " 6   Volume     493 non-null    int64  \n",
      "dtypes: float64(5), int64(1), object(1)\n",
      "memory usage: 27.1+ KB\n"
     ]
    }
   ],
   "source": [
    "data.info()"
   ]
  },
  {
   "cell_type": "code",
   "execution_count": 9,
   "metadata": {},
   "outputs": [
    {
     "data": {
      "text/plain": [
       "Date         0\n",
       "Open         0\n",
       "High         0\n",
       "Low          0\n",
       "Close        0\n",
       "Adj Close    0\n",
       "Volume       0\n",
       "dtype: int64"
      ]
     },
     "execution_count": 9,
     "metadata": {},
     "output_type": "execute_result"
    }
   ],
   "source": [
    "data.isnull().sum()"
   ]
  },
  {
   "cell_type": "code",
   "execution_count": 10,
   "metadata": {},
   "outputs": [],
   "source": [
    "data = data.drop(columns=['Open','High','Low','Adj Close','Volume'])"
   ]
  },
  {
   "cell_type": "code",
   "execution_count": 11,
   "metadata": {},
   "outputs": [
    {
     "data": {
      "text/html": [
       "<div>\n",
       "<style scoped>\n",
       "    .dataframe tbody tr th:only-of-type {\n",
       "        vertical-align: middle;\n",
       "    }\n",
       "\n",
       "    .dataframe tbody tr th {\n",
       "        vertical-align: top;\n",
       "    }\n",
       "\n",
       "    .dataframe thead th {\n",
       "        text-align: right;\n",
       "    }\n",
       "</style>\n",
       "<table border=\"1\" class=\"dataframe\">\n",
       "  <thead>\n",
       "    <tr style=\"text-align: right;\">\n",
       "      <th></th>\n",
       "      <th>Date</th>\n",
       "      <th>Close</th>\n",
       "    </tr>\n",
       "  </thead>\n",
       "  <tbody>\n",
       "    <tr>\n",
       "      <th>0</th>\n",
       "      <td>2020-12-28</td>\n",
       "      <td>3430.0</td>\n",
       "    </tr>\n",
       "    <tr>\n",
       "      <th>1</th>\n",
       "      <td>2020-12-29</td>\n",
       "      <td>3420.0</td>\n",
       "    </tr>\n",
       "    <tr>\n",
       "      <th>2</th>\n",
       "      <td>2020-12-30</td>\n",
       "      <td>3310.0</td>\n",
       "    </tr>\n",
       "    <tr>\n",
       "      <th>3</th>\n",
       "      <td>2021-01-04</td>\n",
       "      <td>3490.0</td>\n",
       "    </tr>\n",
       "    <tr>\n",
       "      <th>4</th>\n",
       "      <td>2021-01-05</td>\n",
       "      <td>3470.0</td>\n",
       "    </tr>\n",
       "  </tbody>\n",
       "</table>\n",
       "</div>"
      ],
      "text/plain": [
       "         Date   Close\n",
       "0  2020-12-28  3430.0\n",
       "1  2020-12-29  3420.0\n",
       "2  2020-12-30  3310.0\n",
       "3  2021-01-04  3490.0\n",
       "4  2021-01-05  3470.0"
      ]
     },
     "execution_count": 11,
     "metadata": {},
     "output_type": "execute_result"
    }
   ],
   "source": [
    "data.head()"
   ]
  },
  {
   "cell_type": "code",
   "execution_count": null,
   "metadata": {},
   "outputs": [],
   "source": []
  }
 ],
 "metadata": {
  "kernelspec": {
   "display_name": "Python 3",
   "language": "python",
   "name": "python3"
  },
  "language_info": {
   "codemirror_mode": {
    "name": "ipython",
    "version": 3
   },
   "file_extension": ".py",
   "mimetype": "text/x-python",
   "name": "python",
   "nbconvert_exporter": "python",
   "pygments_lexer": "ipython3",
   "version": "3.10.8"
  },
  "orig_nbformat": 4,
  "vscode": {
   "interpreter": {
    "hash": "a9cff5a362bc38ef45d817ae74b1af54d6a076e3d773891282bce078b815ba34"
   }
  }
 },
 "nbformat": 4,
 "nbformat_minor": 2
}
