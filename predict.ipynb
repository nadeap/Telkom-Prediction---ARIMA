{
 "cells": [
  {
   "cell_type": "code",
   "execution_count": 1,
   "metadata": {},
   "outputs": [],
   "source": [
    "import pandas as pd\n",
    "import numpy as np\n",
    "import matplotlib.pyplot as plt\n",
    "import seaborn as sns"
   ]
  },
  {
   "cell_type": "code",
   "execution_count": 2,
   "metadata": {},
   "outputs": [
    {
     "data": {
      "text/html": [
       "<div>\n",
       "<style scoped>\n",
       "    .dataframe tbody tr th:only-of-type {\n",
       "        vertical-align: middle;\n",
       "    }\n",
       "\n",
       "    .dataframe tbody tr th {\n",
       "        vertical-align: top;\n",
       "    }\n",
       "\n",
       "    .dataframe thead th {\n",
       "        text-align: right;\n",
       "    }\n",
       "</style>\n",
       "<table border=\"1\" class=\"dataframe\">\n",
       "  <thead>\n",
       "    <tr style=\"text-align: right;\">\n",
       "      <th></th>\n",
       "      <th>Date</th>\n",
       "      <th>Open</th>\n",
       "      <th>High</th>\n",
       "      <th>Low</th>\n",
       "      <th>Close</th>\n",
       "      <th>Adj Close</th>\n",
       "      <th>Volume</th>\n",
       "    </tr>\n",
       "  </thead>\n",
       "  <tbody>\n",
       "    <tr>\n",
       "      <th>0</th>\n",
       "      <td>2021-12-28</td>\n",
       "      <td>4080.0</td>\n",
       "      <td>4130.0</td>\n",
       "      <td>4050.0</td>\n",
       "      <td>4090.0</td>\n",
       "      <td>3945.680176</td>\n",
       "      <td>39443300</td>\n",
       "    </tr>\n",
       "    <tr>\n",
       "      <th>1</th>\n",
       "      <td>2021-12-29</td>\n",
       "      <td>4100.0</td>\n",
       "      <td>4130.0</td>\n",
       "      <td>4080.0</td>\n",
       "      <td>4080.0</td>\n",
       "      <td>3936.033203</td>\n",
       "      <td>25596100</td>\n",
       "    </tr>\n",
       "    <tr>\n",
       "      <th>2</th>\n",
       "      <td>2021-12-30</td>\n",
       "      <td>4130.0</td>\n",
       "      <td>4130.0</td>\n",
       "      <td>4040.0</td>\n",
       "      <td>4040.0</td>\n",
       "      <td>3897.444580</td>\n",
       "      <td>50575100</td>\n",
       "    </tr>\n",
       "    <tr>\n",
       "      <th>3</th>\n",
       "      <td>2022-01-03</td>\n",
       "      <td>4060.0</td>\n",
       "      <td>4180.0</td>\n",
       "      <td>4050.0</td>\n",
       "      <td>4180.0</td>\n",
       "      <td>4032.504395</td>\n",
       "      <td>65937900</td>\n",
       "    </tr>\n",
       "    <tr>\n",
       "      <th>4</th>\n",
       "      <td>2022-01-04</td>\n",
       "      <td>4180.0</td>\n",
       "      <td>4200.0</td>\n",
       "      <td>4150.0</td>\n",
       "      <td>4170.0</td>\n",
       "      <td>4022.857422</td>\n",
       "      <td>42984700</td>\n",
       "    </tr>\n",
       "  </tbody>\n",
       "</table>\n",
       "</div>"
      ],
      "text/plain": [
       "         Date    Open    High     Low   Close    Adj Close    Volume\n",
       "0  2021-12-28  4080.0  4130.0  4050.0  4090.0  3945.680176  39443300\n",
       "1  2021-12-29  4100.0  4130.0  4080.0  4080.0  3936.033203  25596100\n",
       "2  2021-12-30  4130.0  4130.0  4040.0  4040.0  3897.444580  50575100\n",
       "3  2022-01-03  4060.0  4180.0  4050.0  4180.0  4032.504395  65937900\n",
       "4  2022-01-04  4180.0  4200.0  4150.0  4170.0  4022.857422  42984700"
      ]
     },
     "execution_count": 2,
     "metadata": {},
     "output_type": "execute_result"
    }
   ],
   "source": [
    "data = pd.read_csv('TLKM.JK.csv')\n",
    "data.head()"
   ]
  },
  {
   "cell_type": "code",
   "execution_count": 3,
   "metadata": {},
   "outputs": [
    {
     "data": {
      "text/plain": [
       "(247, 7)"
      ]
     },
     "execution_count": 3,
     "metadata": {},
     "output_type": "execute_result"
    }
   ],
   "source": [
    "data.shape"
   ]
  },
  {
   "cell_type": "code",
   "execution_count": null,
   "metadata": {},
   "outputs": [],
   "source": [
    "data."
   ]
  }
 ],
 "metadata": {
  "kernelspec": {
   "display_name": "Python 3",
   "language": "python",
   "name": "python3"
  },
  "language_info": {
   "codemirror_mode": {
    "name": "ipython",
    "version": 3
   },
   "file_extension": ".py",
   "mimetype": "text/x-python",
   "name": "python",
   "nbconvert_exporter": "python",
   "pygments_lexer": "ipython3",
   "version": "3.10.8"
  },
  "orig_nbformat": 4,
  "vscode": {
   "interpreter": {
    "hash": "a9cff5a362bc38ef45d817ae74b1af54d6a076e3d773891282bce078b815ba34"
   }
  }
 },
 "nbformat": 4,
 "nbformat_minor": 2
}
